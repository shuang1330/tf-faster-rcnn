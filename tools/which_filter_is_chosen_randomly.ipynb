{
 "cells": [
  {
   "cell_type": "code",
   "execution_count": 1,
   "metadata": {
    "collapsed": true
   },
   "outputs": [],
   "source": [
    "import pickle"
   ]
  },
  {
   "cell_type": "code",
   "execution_count": 2,
   "metadata": {
    "collapsed": true
   },
   "outputs": [],
   "source": [
    "clas_prune_index = pickle.load(open('activations_res/sorted_index.pkl','r'))"
   ]
  },
  {
   "cell_type": "code",
   "execution_count": 3,
   "metadata": {},
   "outputs": [
    {
     "name": "stdout",
     "output_type": "stream",
     "text": [
      "2th_acts\n",
      "9th_acts\n",
      "3th_acts\n",
      "6th_acts\n",
      "8th_acts\n",
      "7th_acts\n",
      "12th_acts\n",
      "4th_acts\n",
      "5th_acts\n",
      "13th_acts\n",
      "11th_acts\n",
      "10th_acts\n",
      "1th_acts\n"
     ]
    }
   ],
   "source": [
    "for key, value in clas_prune_index.items():\n",
    "    print key"
   ]
  },
  {
   "cell_type": "code",
   "execution_count": 4,
   "metadata": {
    "collapsed": true
   },
   "outputs": [],
   "source": [
    "import random\n",
    "random.seed(100) # 100,500,9000"
   ]
  },
  {
   "cell_type": "code",
   "execution_count": 5,
   "metadata": {
    "collapsed": true
   },
   "outputs": [],
   "source": [
    "num_featuremaps = [64,64,128,128,256,256,256,512,512,512,512,512,512]"
   ]
  },
  {
   "cell_type": "code",
   "execution_count": 6,
   "metadata": {
    "collapsed": true
   },
   "outputs": [],
   "source": [
    "random_prune_index = {}\n",
    "for index, feature_map in enumerate(num_featuremaps):\n",
    "    temp_list = range(feature_map)\n",
    "    random.shuffle(temp_list)\n",
    "    random_prune_index['%dth_acts'%(index+1)] = temp_list\n",
    "    "
   ]
  },
  {
   "cell_type": "code",
   "execution_count": 7,
   "metadata": {},
   "outputs": [
    {
     "name": "stdout",
     "output_type": "stream",
     "text": [
      "2th_acts\n",
      "9th_acts\n",
      "3th_acts\n",
      "6th_acts\n",
      "8th_acts\n",
      "7th_acts\n",
      "12th_acts\n",
      "10th_acts\n",
      "5th_acts\n",
      "13th_acts\n",
      "11th_acts\n",
      "4th_acts\n",
      "1th_acts\n"
     ]
    }
   ],
   "source": [
    "for key, value in random_prune_index.items():\n",
    "    print key"
   ]
  },
  {
   "cell_type": "code",
   "execution_count": 8,
   "metadata": {
    "collapsed": true
   },
   "outputs": [],
   "source": [
    "listA=clas_prune_index['10th_acts'][:256]"
   ]
  },
  {
   "cell_type": "code",
   "execution_count": 9,
   "metadata": {
    "collapsed": true
   },
   "outputs": [],
   "source": [
    "listB=random_prune_index['10th_acts'][:256]"
   ]
  },
  {
   "cell_type": "code",
   "execution_count": 10,
   "metadata": {},
   "outputs": [
    {
     "data": {
      "text/plain": [
       "32.64248704663213"
      ]
     },
     "execution_count": 10,
     "metadata": {},
     "output_type": "execute_result"
    }
   ],
   "source": [
    " len(set(listA)&set(listB)) / float(len(set(listA) | set(listB))) * 100 # random seed 100"
   ]
  },
  {
   "cell_type": "code",
   "execution_count": 15,
   "metadata": {
    "collapsed": true
   },
   "outputs": [],
   "source": [
    "common_featuremaps = set(listA)&set(listB)"
   ]
  },
  {
   "cell_type": "code",
   "execution_count": 16,
   "metadata": {},
   "outputs": [
    {
     "name": "stdout",
     "output_type": "stream",
     "text": [
      "126\n"
     ]
    }
   ],
   "source": [
    "print len(common_featuremaps)"
   ]
  },
  {
   "cell_type": "code",
   "execution_count": 17,
   "metadata": {
    "collapsed": true
   },
   "outputs": [],
   "source": [
    "random_and_clas = common_featuremaps&set(listA[:126])"
   ]
  },
  {
   "cell_type": "code",
   "execution_count": 18,
   "metadata": {},
   "outputs": [
    {
     "name": "stdout",
     "output_type": "stream",
     "text": [
      "64\n"
     ]
    }
   ],
   "source": [
    "print len(random_and_clas)"
   ]
  },
  {
   "cell_type": "code",
   "execution_count": 19,
   "metadata": {},
   "outputs": [
    {
     "name": "stdout",
     "output_type": "stream",
     "text": [
      "set([1, 3, 4, 14, 24, 26, 31, 35, 40, 41, 44, 46, 49, 55, 60, 61, 66, 68, 74, 75, 76, 81, 84, 97, 99, 104, 110, 114, 135, 146, 151, 154, 156, 164, 170, 172, 175, 176, 178, 183, 184, 195, 196, 198, 203, 207, 211, 218, 225, 240, 241, 242, 243, 245, 249, 254, 258, 260, 263, 266, 267, 273, 277, 282, 284, 287, 289, 296, 304, 305, 308, 309, 320, 325, 330, 332, 333, 342, 343, 346, 349, 350, 353, 355, 369, 372, 374, 382, 383, 385, 386, 394, 401, 403, 404, 406, 420, 422, 428, 429, 432, 434, 436, 438, 439, 443, 446, 450, 451, 454, 455, 461, 464, 467, 471, 484, 485, 487, 493, 500, 501, 502, 504, 505, 506, 510])\n"
     ]
    }
   ],
   "source": [
    "print common_featuremaps"
   ]
  },
  {
   "cell_type": "code",
   "execution_count": 20,
   "metadata": {},
   "outputs": [
    {
     "name": "stdout",
     "output_type": "stream",
     "text": [
      "[442 241 420  80 378 267 418 349 436 194 273 184 318 246  18   1 375 198\n",
      " 455 325 285 104 320 304 333 271 296 477 303 503 347 451 471 154 220 447\n",
      " 203 212 218 207 329 507  44 484  14 253  90  83 208 305 277  45 326 478\n",
      " 311 176 385  40 411 175 107 448   5 429 257 487  96 317 335 221 114  61\n",
      "   8  37  64 156 404 211  95 307  32 219  92 195  81 430 386 282  41 498\n",
      " 499  35 434  46 309 308 403 268 249  86 344 161 343 191 209 287 468 394\n",
      "  85 461 374 258 450 383 463  24 355 397  48  84 189  75 372 238   3 237\n",
      " 135 280 370  60 393 396 121 438 251  55 110 321 412 401 446 502  71 504\n",
      " 275 501  15 439  10 454 476 113 506 169   4  68 284 164 117 510 497 428\n",
      " 490 346 382   2  76 366 353  73 486 456 283  27  77 464 389 511 483 330\n",
      " 263  19 178 136 350 225 432  56 369 306  66 146 381 479 279 327  74  49\n",
      " 288 185 205 130 505 332 376 485 410 266 422 367 261 289 358 342 406 356\n",
      " 124  88  67 384 443  31 170 172  97 245 260 377 183 100 359 472 339 190\n",
      " 398 421 122 151 243 467   9  52 126 196 239 493 242  26  99 240 201 500\n",
      " 324 254 362 292]\n"
     ]
    }
   ],
   "source": [
    "print listA"
   ]
  },
  {
   "cell_type": "code",
   "execution_count": 21,
   "metadata": {},
   "outputs": [
    {
     "name": "stdout",
     "output_type": "stream",
     "text": [
      "256\n"
     ]
    }
   ],
   "source": [
    "print len(listA)"
   ]
  },
  {
   "cell_type": "code",
   "execution_count": 22,
   "metadata": {
    "collapsed": true
   },
   "outputs": [],
   "source": [
    "import matplotlib.pyplot as plt\n",
    "%matplotlib inline\n",
    "import numpy as np"
   ]
  },
  {
   "cell_type": "code",
   "execution_count": 23,
   "metadata": {},
   "outputs": [
    {
     "name": "stdout",
     "output_type": "stream",
     "text": [
      "(256, 100)\n"
     ]
    },
    {
     "data": {
      "text/plain": [
       "<matplotlib.image.AxesImage at 0x7fa065558510>"
      ]
     },
     "execution_count": 23,
     "metadata": {},
     "output_type": "execute_result"
    },
    {
     "data": {
      "image/png": "[encoded data removed]",
      "text/plain": [
       "<matplotlib.figure.Figure at 0x7fa069a84d50>"
      ]
     },
     "metadata": {},
     "output_type": "display_data"
    }
   ],
   "source": [
    "activation_method = np.ones([256,100],np.float32)\n",
    "for index,a in enumerate(listA):\n",
    "    if a in common_featuremaps:\n",
    "        activation_method[index] = 0\n",
    "print activation_method.shape\n",
    "plt.imshow(activation_method,'gray')"
   ]
  },
  {
   "cell_type": "code",
   "execution_count": 24,
   "metadata": {},
   "outputs": [
    {
     "name": "stdout",
     "output_type": "stream",
     "text": [
      "(256, 100)\n"
     ]
    },
    {
     "data": {
      "text/plain": [
       "<matplotlib.image.AxesImage at 0x7fa06543aad0>"
      ]
     },
     "execution_count": 24,
     "metadata": {},
     "output_type": "execute_result"
    },
    {
     "data": {
      "image/png": "[encoded data removed]",
      "text/plain": [
       "<matplotlib.figure.Figure at 0x7fa067873d10>"
      ]
     },
     "metadata": {},
     "output_type": "display_data"
    }
   ],
   "source": [
    "random.seed(300) # best results\n",
    "random_prune_index = {}\n",
    "for index, feature_map in enumerate(num_featuremaps):\n",
    "    temp_list = range(feature_map)\n",
    "    random.shuffle(temp_list)\n",
    "    random_prune_index['%dth_acts'%(index+1)] = temp_list\n",
    "listA=clas_prune_index['10th_acts'][:256]\n",
    "listB=random_prune_index['10th_acts'][:256]\n",
    "common_featuremaps = set(listA)&set(listB)\n",
    "activation_method = np.ones([256,100],np.float32)\n",
    "for index,a in enumerate(listA):\n",
    "    if a in common_featuremaps:\n",
    "        activation_method[index] = 0\n",
    "print activation_method.shape\n",
    "plt.imshow(activation_method,'gray')"
   ]
  },
  {
   "cell_type": "code",
   "execution_count": 25,
   "metadata": {},
   "outputs": [
    {
     "name": "stdout",
     "output_type": "stream",
     "text": [
      "(256, 100)\n"
     ]
    },
    {
     "data": {
      "text/plain": [
       "<matplotlib.image.AxesImage at 0x7fa065369e50>"
      ]
     },
     "execution_count": 25,
     "metadata": {},
     "output_type": "execute_result"
    },
    {
     "data": {
      "image/png": "[encoded data removed]",
      "text/plain": [
       "<matplotlib.figure.Figure at 0x7fa0654d8790>"
      ]
     },
     "metadata": {},
     "output_type": "display_data"
    }
   ],
   "source": [
    "random.seed(100) # worst results\n",
    "random_prune_index = {}\n",
    "for index, feature_map in enumerate(num_featuremaps):\n",
    "    temp_list = range(feature_map)\n",
    "    random.shuffle(temp_list)\n",
    "    random_prune_index['%dth_acts'%(index+1)] = temp_list\n",
    "listA=clas_prune_index['10th_acts'][:256]\n",
    "listB=random_prune_index['10th_acts'][:256]\n",
    "common_featuremaps = set(listA)&set(listB)\n",
    "activation_method = np.ones([256,100],np.float32)\n",
    "for index,a in enumerate(listA):\n",
    "    if a in common_featuremaps:\n",
    "        activation_method[index] = 0\n",
    "print activation_method.shape\n",
    "plt.imshow(activation_method,'gray')"
   ]
  },
  {
   "cell_type": "code",
   "execution_count": 35,
   "metadata": {},
   "outputs": [
    {
     "name": "stdout",
     "output_type": "stream",
     "text": [
      "(256, 100)\n"
     ]
    },
    {
     "data": {
      "text/plain": [
       "<matplotlib.image.AxesImage at 0x7fa065314e10>"
      ]
     },
     "execution_count": 35,
     "metadata": {},
     "output_type": "execute_result"
    },
    {
     "data": {
      "image/png": "[encoded data removed]",
      "text/plain": [
       "<matplotlib.figure.Figure at 0x7fa064d0d550>"
      ]
     },
     "metadata": {},
     "output_type": "display_data"
    }
   ],
   "source": [
    "random.seed(300) # worst results\n",
    "random_prune_index = {}\n",
    "for index, feature_map in enumerate(num_featuremaps):\n",
    "    temp_list = range(feature_map)\n",
    "    random.shuffle(temp_list)\n",
    "    random_prune_index['%dth_acts'%(index+1)] = temp_list\n",
    "listA=clas_prune_index['10th_acts'][:256]\n",
    "listB=random_prune_index['10th_acts'][:256]\n",
    "common_featuremaps = set(listA)&set(listB)\n",
    "activation_method = np.ones([256,100],np.float32)\n",
    "for index,a in enumerate(listA):\n",
    "    if a in common_featuremaps:\n",
    "        activation_method[index] = 0\n",
    "print activation_method.shape\n",
    "plt.imshow(activation_method,'gray')"
   ]
  },
  {
   "cell_type": "code",
   "execution_count": 33,
   "metadata": {},
   "outputs": [
    {
     "name": "stdout",
     "output_type": "stream",
     "text": [
      "(256, 100)\n"
     ]
    },
    {
     "data": {
      "image/png": "[encoded data removed]",
      "text/plain": [
       "<matplotlib.figure.Figure at 0x7fa06546b8d0>"
      ]
     },
     "metadata": {},
     "output_type": "display_data"
    },
    {
     "name": "stdout",
     "output_type": "stream",
     "text": [
      "(256, 100)\n"
     ]
    },
    {
     "data": {
      "image/png": "[encoded data removed]",
      "text/plain": [
       "<matplotlib.figure.Figure at 0x7fa064d70290>"
      ]
     },
     "metadata": {},
     "output_type": "display_data"
    },
    {
     "name": "stdout",
     "output_type": "stream",
     "text": [
      "(256, 100)\n"
     ]
    },
    {
     "data": {
      "image/png": "[encoded data removed]",
      "text/plain": [
       "<matplotlib.figure.Figure at 0x7fa064ecba90>"
      ]
     },
     "metadata": {},
     "output_type": "display_data"
    }
   ],
   "source": [
    "random.seed(100) # 100,500,9000\n",
    "for index,i in enumerate([100,600,900]):\n",
    "    random.seed(i)\n",
    "    random_prune_index = {}\n",
    "    for index, feature_map in enumerate(num_featuremaps):\n",
    "        temp_list = range(feature_map)\n",
    "        random.shuffle(temp_list)\n",
    "        random_prune_index['%dth_acts'%(index+1)] = temp_list\n",
    "    listA=clas_prune_index['10th_acts'][:256]\n",
    "    listB=random_prune_index['10th_acts'][:256]\n",
    "    common_featuremaps = set(listA)&set(listB)\n",
    "    activation_method = np.ones([256,100],np.float32)\n",
    "    for index,a in enumerate(listA):\n",
    "        if a in common_featuremaps:\n",
    "            activation_method[index] = 0\n",
    "    print activation_method.shape\n",
    "#     plt.subplot(1,3,index)\n",
    "    plt.imshow(activation_method,'gray')\n",
    "    plt.show()"
   ]
  },
  {
   "cell_type": "code",
   "execution_count": 34,
   "metadata": {},
   "outputs": [
    {
     "name": "stdout",
     "output_type": "stream",
     "text": [
      "(256, 100)\n"
     ]
    },
    {
     "data": {
      "image/png": "[encoded data removed]",
      "text/plain": [
       "<matplotlib.figure.Figure at 0x7fa0675b60d0>"
      ]
     },
     "metadata": {},
     "output_type": "display_data"
    },
    {
     "name": "stdout",
     "output_type": "stream",
     "text": [
      "(256, 100)\n"
     ]
    },
    {
     "data": {
      "image/png": "[encoded data removed]",
      "text/plain": [
       "<matplotlib.figure.Figure at 0x7fa06541d590>"
      ]
     },
     "metadata": {},
     "output_type": "display_data"
    },
    {
     "name": "stdout",
     "output_type": "stream",
     "text": [
      "(256, 100)\n"
     ]
    },
    {
     "data": {
      "image/png": "[encoded data removed]",
      "text/plain": [
       "<matplotlib.figure.Figure at 0x7fa065212910>"
      ]
     },
     "metadata": {},
     "output_type": "display_data"
    },
    {
     "name": "stdout",
     "output_type": "stream",
     "text": [
      "(256, 100)\n"
     ]
    },
    {
     "data": {
      "image/png": "[encoded data removed]",
      "text/plain": [
       "<matplotlib.figure.Figure at 0x7fa0652d9c10>"
      ]
     },
     "metadata": {},
     "output_type": "display_data"
    },
    {
     "name": "stdout",
     "output_type": "stream",
     "text": [
      "(256, 100)\n"
     ]
    },
    {
     "data": {
      "image/png": "[encoded data removed]",
      "text/plain": [
       "<matplotlib.figure.Figure at 0x7fa064e53cd0>"
      ]
     },
     "metadata": {},
     "output_type": "display_data"
    },
    {
     "name": "stdout",
     "output_type": "stream",
     "text": [
      "(256, 100)\n"
     ]
    },
    {
     "data": {
      "image/png": "[encoded data removed]",
      "text/plain": [
       "<matplotlib.figure.Figure at 0x7fa0654d88d0>"
      ]
     },
     "metadata": {},
     "output_type": "display_data"
    }
   ],
   "source": [
    "for index,i in enumerate([200,300,400,500,700,800]):\n",
    "    random.seed(i)\n",
    "    random_prune_index = {}\n",
    "    for index, feature_map in enumerate(num_featuremaps):\n",
    "        temp_list = range(feature_map)\n",
    "        random.shuffle(temp_list)\n",
    "        random_prune_index['%dth_acts'%(index+1)] = temp_list\n",
    "    listA=clas_prune_index['10th_acts'][:256]\n",
    "    listB=random_prune_index['10th_acts'][:256]\n",
    "    common_featuremaps = set(listA)&set(listB)\n",
    "    activation_method = np.ones([256,100],np.float32)\n",
    "    for index,a in enumerate(listA):\n",
    "        if a in common_featuremaps:\n",
    "            activation_method[index] = 0\n",
    "    print activation_method.shape\n",
    "#     plt.subplot(1,3,index)\n",
    "    plt.imshow(activation_method,'gray')\n",
    "    plt.show()"
   ]
  },
  {
   "cell_type": "code",
   "execution_count": null,
   "metadata": {
    "collapsed": true
   },
   "outputs": [],
   "source": []
  }
 ],
 "metadata": {
  "kernelspec": {
   "display_name": "Python 2",
   "language": "python",
   "name": "python2"
  },
  "language_info": {
   "codemirror_mode": {
    "name": "ipython",
    "version": 2
   },
   "file_extension": ".py",
   "mimetype": "text/x-python",
   "name": "python",
   "nbconvert_exporter": "python",
   "pygments_lexer": "ipython2",
   "version": "2.7.6"
  }
 },
 "nbformat": 4,
 "nbformat_minor": 2
}
