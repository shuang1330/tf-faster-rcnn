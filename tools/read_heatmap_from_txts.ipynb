{
 "cells": [
  {
   "cell_type": "code",
   "execution_count": 1,
   "metadata": {
    "collapsed": true
   },
   "outputs": [],
   "source": [
    "import os.path\n",
    "import matplotlib.pyplot as plt\n",
    "from tensorflow.python import pywrap_tensorflow\n",
    "import numpy as np\n",
    "%matplotlib inline"
   ]
  },
  {
   "cell_type": "code",
   "execution_count": 2,
   "metadata": {
    "collapsed": true
   },
   "outputs": [],
   "source": [
    "path = '../activations_penalty0.01_iter200000'\n",
    "num_files = len([f for f in os.listdir(path)\n",
    "                if os.path.isfile(os.path.join(path, f))])\n",
    "CLASSES = ('aeroplane', 'bicycle', 'bird', 'boat',\n",
    "           'bottle', 'bus', 'car', 'cat', 'chair',\n",
    "           'cow', 'diningtable', 'dog', 'horse',\n",
    "           'motorbike', 'person', 'pottedplant',\n",
    "           'sheep', 'sofa', 'train', 'tvmonitor')\n",
    "class_to_ind = dict(list(zip(CLASSES, list(range(len(CLASSES))))))\n",
    "arr_hm = [np.empty([num_files,20,64], dtype=float),\n",
    "            np.empty([num_files,20,64], dtype=float),\n",
    "            np.empty([num_files,20,128], dtype=float),\n",
    "            np.empty([num_files,20,128], dtype=float),\n",
    "            np.empty([num_files,20,256], dtype=float),\n",
    "            np.empty([num_files,20,256], dtype=float),\n",
    "            np.empty([num_files,20,256], dtype=float),\n",
    "            np.empty([num_files,20,512], dtype=float),\n",
    "            np.empty([num_files,20,512], dtype=float),\n",
    "            np.empty([num_files,20,512], dtype=float),\n",
    "            np.empty([num_files,20,512], dtype=float),\n",
    "            np.empty([num_files,20,512], dtype=float),\n",
    "            np.empty([num_files,20,512], dtype=float)]\n",
    "num_clas = [0,0,0,0,0,0,0,0,0,0,0,0,0,0,0,0,0,0,0,0]"
   ]
  },
  {
   "cell_type": "code",
   "execution_count": 3,
   "metadata": {},
   "outputs": [
    {
     "name": "stdout",
     "output_type": "stream",
     "text": [
      "<type 'list'>\n"
     ]
    }
   ],
   "source": [
    "print type(os.listdir(path))"
   ]
  },
  {
   "cell_type": "code",
   "execution_count": 4,
   "metadata": {},
   "outputs": [
    {
     "name": "stdout",
     "output_type": "stream",
     "text": [
      "loading data from text files\n",
      "loaded\n"
     ]
    }
   ],
   "source": [
    "# calculate the activation versus classes matrix\n",
    "print 'loading data from text files'\n",
    "for file_ind,filename in enumerate(os.listdir(path)):\n",
    "#     print 'processing file {}'.format(filename)\n",
    "    clas = []\n",
    "    acts = []\n",
    "    f = open('/'.join([path,filename]),'r')\n",
    "    act_ind = 0\n",
    "    for line in f.readlines():\n",
    "        if line and line[0].isalpha():\n",
    "            clas.append(line[:-1])\n",
    "        if line.startswith('['):\n",
    "            if not line.endswith(']/n'):\n",
    "                acts.append([])\n",
    "                acts_this_line = line[2:-1].split(' ')\n",
    "                for i in acts_this_line:\n",
    "                    if i is not '':\n",
    "                        acts[act_ind].append(float(i))\n",
    "            else:\n",
    "                raise IOError('Error line with fewer numbers than expected.')\n",
    "        if line.startswith(' '):\n",
    "            # print 'starts with nothing'\n",
    "            if line.endswith(']\\n'):\n",
    "                acts_this_line = line[:-2].split(' ')\n",
    "                for i in acts_this_line:\n",
    "                    if i is not '':\n",
    "                        acts[act_ind].append(float(i))\n",
    "                act_ind += 1\n",
    "            else:\n",
    "                acts_this_line = line.split(' ')\n",
    "                for i in acts_this_line:\n",
    "                    if i is not '':\n",
    "                        acts[act_ind].append(float(i))\n",
    "\n",
    "    for item in CLASSES:\n",
    "        ind = class_to_ind[item]\n",
    "        if item in clas:\n",
    "            file_ind = int(filename[:-4])\n",
    "            for j in range(13):\n",
    "                arr_hm[j][file_ind][ind] += acts[j]\n",
    "            num_clas[ind] = num_clas[ind] + 1\n",
    "print 'loaded'"
   ]
  },
  {
   "cell_type": "code",
   "execution_count": 5,
   "metadata": {},
   "outputs": [
    {
     "name": "stdout",
     "output_type": "stream",
     "text": [
      "[0, 1820, 0, 0, 0, 2592, 2810, 0, 0, 0, 0, 0, 0, 1768, 4315, 0, 0, 0, 0, 0]\n",
      "13\n",
      "(4952, 20, 64)\n"
     ]
    }
   ],
   "source": [
    "print num_clas\n",
    "print len(arr_hm)\n",
    "print arr_hm[0].shape\n",
    "num_clas = np.asarray(num_clas)"
   ]
  },
  {
   "cell_type": "code",
   "execution_count": 6,
   "metadata": {},
   "outputs": [
    {
     "name": "stdout",
     "output_type": "stream",
     "text": [
      "[   1 1820    1    1    1 2592 2810    1    1    1    1    1    1 1768 4315\n",
      "    1    1    1    1    1]\n"
     ]
    }
   ],
   "source": [
    "num_clas[num_clas == 0] = 1\n",
    "print num_clas"
   ]
  },
  {
   "cell_type": "code",
   "execution_count": 7,
   "metadata": {
    "scrolled": true
   },
   "outputs": [
    {
     "name": "stdout",
     "output_type": "stream",
     "text": [
      "(20, 64)\n",
      "(20, 64)\n",
      "(20, 128)\n",
      "(20, 128)\n",
      "(20, 256)\n",
      "(20, 256)\n",
      "(20, 256)\n",
      "(20, 512)\n",
      "(20, 512)\n",
      "(20, 512)\n",
      "(20, 512)\n",
      "(20, 512)\n",
      "(20, 512)\n"
     ]
    }
   ],
   "source": [
    "for i in range(13):\n",
    "    arr_hm_new = np.sum(arr_hm[i], axis=0)\n",
    "    print arr_hm_new.shape\n",
    "    for j in range(len(num_clas)):\n",
    "        arr_hm_new[j] = arr_hm_new[j]/num_clas[j]\n",
    "\n",
    "#     fig= plt.figure(figsize=(arr_hm_new.shape[1], 21), dpi= 20, facecolor='w', edgecolor='k')\n",
    "#     ax = plt.axes()\n",
    "#     plt.subplot()\n",
    "#     heatmap = ax.pcolormesh(arr_hm_new,cmap=plt.cm.Blues,alpha=0.8)\n",
    "#     plt.savefig('images/{}.png'.format(i))"
   ]
  },
  {
   "cell_type": "code",
   "execution_count": 8,
   "metadata": {},
   "outputs": [
    {
     "name": "stdout",
     "output_type": "stream",
     "text": [
      "20\n"
     ]
    }
   ],
   "source": [
    "print len(arr_hm_new)"
   ]
  },
  {
   "cell_type": "code",
   "execution_count": 9,
   "metadata": {},
   "outputs": [
    {
     "name": "stdout",
     "output_type": "stream",
     "text": [
      "(20, 64)\n",
      "(20, 64)\n",
      "(20, 128)\n",
      "(20, 128)\n",
      "(20, 256)\n",
      "(20, 256)\n",
      "(20, 256)\n",
      "(20, 512)\n",
      "(20, 512)\n",
      "(20, 512)\n",
      "(20, 512)\n",
      "(20, 512)\n",
      "(20, 512)\n"
     ]
    }
   ],
   "source": [
    "dic_original_images = {}\n",
    "for i in range(13):\n",
    "    dic_original_images['%dth_layer'%i] = np.sum(arr_hm[i],axis=0)\n",
    "    print(dic_original_images['%dth_layer'%i].shape)\n",
    "    for j in range(len(num_clas)):\n",
    "        dic_original_images['%dth_layer'%i][j] = dic_original_images['%dth_layer'%i][j]/num_clas[j]\n",
    "        "
   ]
  },
  {
   "cell_type": "raw",
   "metadata": {},
   "source": [
    "Careful HERE! You might want to change the name of saving files."
   ]
  },
  {
   "cell_type": "code",
   "execution_count": 10,
   "metadata": {
    "scrolled": true
   },
   "outputs": [
    {
     "name": "stdout",
     "output_type": "stream",
     "text": [
      "[[  0.00000000e+00   0.00000000e+00   0.00000000e+00 ...,   0.00000000e+00\n",
      "    0.00000000e+00   0.00000000e+00]\n",
      " [  1.05511788e+08   1.07070399e+05   6.04385778e+07 ...,   1.05475618e+02\n",
      "    3.63794500e+05   1.05120589e+08]\n",
      " [  0.00000000e+00   0.00000000e+00   0.00000000e+00 ...,   0.00000000e+00\n",
      "    0.00000000e+00   0.00000000e+00]\n",
      " ..., \n",
      " [  0.00000000e+00   0.00000000e+00   0.00000000e+00 ...,   0.00000000e+00\n",
      "    0.00000000e+00   0.00000000e+00]\n",
      " [  0.00000000e+00   0.00000000e+00   0.00000000e+00 ...,   0.00000000e+00\n",
      "    0.00000000e+00   0.00000000e+00]\n",
      " [  0.00000000e+00   0.00000000e+00   0.00000000e+00 ...,   0.00000000e+00\n",
      "    0.00000000e+00   0.00000000e+00]]\n"
     ]
    }
   ],
   "source": [
    "print dic_original_images['1th_layer']\n",
    "np.save('activations_res/penalty0.01_iter200000.npy',dic_original_images)"
   ]
  },
  {
   "cell_type": "code",
   "execution_count": 6,
   "metadata": {},
   "outputs": [
    {
     "name": "stdout",
     "output_type": "stream",
     "text": [
      "0.93784062124\n",
      "0.946209615539\n",
      "0.976846461633\n",
      "0.961708072453\n",
      "0.881188294643\n",
      "0.87684713614\n",
      "0.800487322982\n",
      "0.744750907875\n",
      "0.854841682964\n",
      "0.911128362595\n",
      "0.910979848164\n",
      "0.925787301517\n",
      "0.940666915393\n"
     ]
    }
   ],
   "source": [
    "# calcualates the corelations between classes\n",
    "for i in range(13): \n",
    "#     arr_hm_average = np.average(arr_hm[i],axis=0)\n",
    "#     print arr_hm_average\n",
    "    arr_hm_new = np.sum(arr_hm[i], axis=0)/num_clas[i]\n",
    "    cor_arr_hm = np.corrcoef(arr_hm_new[:-2])\n",
    "#     print cor_arr_hm\n",
    "    print np.average(cor_arr_hm[cor_arr_hm<1])"
   ]
  },
  {
   "cell_type": "code",
   "execution_count": 8,
   "metadata": {},
   "outputs": [
    {
     "name": "stdout",
     "output_type": "stream",
     "text": [
      "0.93842973575\n",
      "0.946290787567\n",
      "0.976836290034\n",
      "0.961463257607\n",
      "0.8804556853\n",
      "0.877536808407\n",
      "0.79875848802\n",
      "0.74470139665\n",
      "0.854838285557\n",
      "0.911387464196\n",
      "0.911746075723\n",
      "0.925556665428\n",
      "0.940646912074\n"
     ]
    }
   ],
   "source": [
    "# calcualates the corelations between classes\n",
    "for i in range(13): \n",
    "#     arr_hm_average = np.average(arr_hm[i],axis=0)\n",
    "#     print arr_hm_average\n",
    "    arr_hm_new = np.sum(arr_hm[i], axis=0)/num_clas[i]\n",
    "    cor_arr_hm = np.corrcoef(arr_hm_new[:-2])\n",
    "#     print cor_arr_hm\n",
    "    print np.average(cor_arr_hm[cor_arr_hm<1])"
   ]
  },
  {
   "cell_type": "code",
   "execution_count": 6,
   "metadata": {},
   "outputs": [
    {
     "name": "stdout",
     "output_type": "stream",
     "text": [
      "(4952, 21, 64)\n"
     ]
    }
   ],
   "source": [
    "print arr_hm[0].shape"
   ]
  },
  {
   "cell_type": "code",
   "execution_count": 9,
   "metadata": {
    "collapsed": true
   },
   "outputs": [],
   "source": [
    "# read weights from the ckpt file\n",
    "file_name = '../output/vgg16/voc_2007_trainval/default/vgg16_faster_rcnn_iter_70000.ckpt'\n",
    "reader = pywrap_tensorflow.NewCheckpointReader(file_name)\n",
    "var_to_shape_map = reader.get_variable_to_shape_map()\n",
    "dic = {}\n",
    "weights = []\n",
    "for key in sorted(var_to_shape_map):\n",
    "    if 'conv' in key and key.endswith('weights'):\n",
    "        dic[key] = np.sum(reader.get_tensor(key),axis=(0,1,2))\n",
    "        weights.append(dic[key])"
   ]
  },
  {
   "cell_type": "code",
   "execution_count": 10,
   "metadata": {},
   "outputs": [
    {
     "name": "stdout",
     "output_type": "stream",
     "text": [
      "-0.241854844706\n",
      "0.74172162698\n",
      "0.295600136712\n",
      "0.57865594727\n",
      "0.212262044496\n",
      "0.116530647349\n",
      "0.284733814161\n",
      "-0.0203436521925\n",
      "0.426106182637\n",
      "0.187759750798\n",
      "0.0643599813287\n",
      "0.278986077559\n",
      "0.373248292268\n"
     ]
    }
   ],
   "source": [
    "# correlation between weights and activations\n",
    "for i in range(13):\n",
    "    arr_hm_new = np.sum(arr_hm[i], axis=(0,1))/num_clas[i]\n",
    "#     print arr_hm_new.shape\n",
    "    corr_weights_acts = np.corrcoef([weights[i],arr_hm_new])\n",
    "    print corr_weights_acts[0][1]"
   ]
  },
  {
   "cell_type": "code",
   "execution_count": 11,
   "metadata": {},
   "outputs": [
    {
     "name": "stdout",
     "output_type": "stream",
     "text": [
      "0.239447484772\n",
      "0.237266522193\n",
      "0.240250271087\n",
      "0.238947568732\n",
      "0.244961085818\n",
      "0.236183296593\n",
      "0.241612783161\n",
      "0.237046238045\n",
      "0.232828755235\n",
      "0.228799777348\n",
      "0.229274687099\n",
      "0.223091723871\n",
      "0.222368006522\n"
     ]
    }
   ],
   "source": [
    "# correlation with AP for each class\n",
    "APs = [0.689,0.784,0.675,0.534,0.586,0.786,0.841,0.839,0.478,0.814,0.669,0.807,0.841,0.756,0.771,0.462,0.707,0.670,0.742,0.731]\n",
    "for i in range(13):\n",
    "    arr_hm_new = np.sum(arr_hm[i], axis=(0,2))/num_clas[i]\n",
    "    corr_weights_acts = np.corrcoef([APs,arr_hm_new[:-1][::-1]])\n",
    "    print corr_weights_acts[0][1]\n"
   ]
  },
  {
   "cell_type": "code",
   "execution_count": 12,
   "metadata": {},
   "outputs": [
    {
     "name": "stdout",
     "output_type": "stream",
     "text": [
      "0.0546275915799\n",
      "0.0532138974563\n",
      "0.0580919728218\n",
      "0.0625610016051\n",
      "0.0546852471073\n",
      "0.0568933412176\n",
      "0.0565497546325\n",
      "0.0520399278383\n",
      "0.053187016696\n",
      "0.0460796426889\n",
      "0.0493262309279\n",
      "0.045795142169\n",
      "0.0574644856072\n"
     ]
    }
   ],
   "source": [
    "# correlation with data amount for each class\n",
    "for i in range(13):\n",
    "    arr_hm_new = np.sum(arr_hm[i], axis=(0,2))/num_clas[i]\n",
    "    corr_weights_acts = np.corrcoef([num_clas,arr_hm_new[::-1]])\n",
    "    print corr_weights_acts[0][1]    "
   ]
  },
  {
   "cell_type": "code",
   "execution_count": null,
   "metadata": {
    "collapsed": true
   },
   "outputs": [],
   "source": []
  }
 ],
 "metadata": {
  "kernelspec": {
   "display_name": "Python 2",
   "language": "python",
   "name": "python2"
  },
  "language_info": {
   "codemirror_mode": {
    "name": "ipython",
    "version": 2
   },
   "file_extension": ".py",
   "mimetype": "text/x-python",
   "name": "python",
   "nbconvert_exporter": "python",
   "pygments_lexer": "ipython2",
   "version": "2.7.6"
  }
 },
 "nbformat": 4,
 "nbformat_minor": 2
}
