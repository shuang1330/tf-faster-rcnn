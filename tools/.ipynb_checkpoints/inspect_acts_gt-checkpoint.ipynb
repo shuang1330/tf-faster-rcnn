{
 "cells": [
  {
   "cell_type": "code",
   "execution_count": 1,
   "metadata": {
    "collapsed": true
   },
   "outputs": [],
   "source": [
    "import os.path\n",
    "import matplotlib.pyplot as plt\n",
    "from tensorflow.python import pywrap_tensorflow\n",
    "import numpy as np\n",
    "import xml.etree.cElementTree as ET\n",
    "%matplotlib inline"
   ]
  },
  {
   "cell_type": "code",
   "execution_count": 5,
   "metadata": {},
   "outputs": [],
   "source": [
    "path = '../activations'\n",
    "num_files = len([f for f in os.listdir(path)\n",
    "                if os.path.isfile(os.path.join(path, f))])\n",
    "ann_path = '../data/VOCdevkit2007/VOC2007/Annotations'\n",
    "CLASSES = ('__background__',\n",
    "           'aeroplane', 'bicycle', 'bird', 'boat',\n",
    "           'bottle', 'bus', 'car', 'cat', 'chair',\n",
    "           'cow', 'diningtable', 'dog', 'horse',\n",
    "           'motorbike', 'person', 'pottedplant',\n",
    "           'sheep', 'sofa', 'train', 'tvmonitor')\n",
    "class_to_ind = dict(list(zip(CLASSES[1:], list(range(len(CLASSES[1:]))))))\n",
    "arr_hm = [np.empty([num_files,21,64], dtype=float),\n",
    "            np.empty([num_files,21,64], dtype=float),\n",
    "            np.empty([num_files,21,128], dtype=float),\n",
    "            np.empty([num_files,21,128], dtype=float),\n",
    "            np.empty([num_files,21,256], dtype=float),\n",
    "            np.empty([num_files,21,256], dtype=float),\n",
    "            np.empty([num_files,21,256], dtype=float),\n",
    "            np.empty([num_files,21,512], dtype=float),\n",
    "            np.empty([num_files,21,512], dtype=float),\n",
    "            np.empty([num_files,21,512], dtype=float),\n",
    "            np.empty([num_files,21,512], dtype=float),\n",
    "            np.empty([num_files,21,512], dtype=float),\n",
    "            np.empty([num_files,21,512], dtype=float)]\n",
    "num_clas = [1,0,0,0,0,0,0,0,0,0,0,0,0,0,0,0,0,0,0,0,0]"
   ]
  },
  {
   "cell_type": "code",
   "execution_count": 12,
   "metadata": {
    "collapsed": true
   },
   "outputs": [],
   "source": [
    "def read_ann(path):\n",
    "\n",
    "    clas = []\n",
    "    tree = ET.parse(path)\n",
    "    objs = tree.findall('object')\n",
    "    for ix, obj in enumerate(objs):\n",
    "        clas.append(class_to_ind[obj.find('name').text.lower().strip()])\n",
    "\n",
    "    return clas"
   ]
  },
  {
   "cell_type": "code",
   "execution_count": 13,
   "metadata": {},
   "outputs": [
    {
     "name": "stdout",
     "output_type": "stream",
     "text": [
      "loading data from text files\n"
     ]
    },
    {
     "ename": "IOError",
     "evalue": "[Errno 2] No such file or directory: '../data/VOCdevkit2007/VOC2007/Annotations/3858.xml'",
     "output_type": "error",
     "traceback": [
      "\u001b[0;31m---------------------------------------------------------------------------\u001b[0m",
      "\u001b[0;31mIOError\u001b[0m                                   Traceback (most recent call last)",
      "\u001b[0;32m<ipython-input-13-76128c15c4eb>\u001b[0m in \u001b[0;36m<module>\u001b[0;34m()\u001b[0m\n\u001b[1;32m     35\u001b[0m \u001b[0;34m\u001b[0m\u001b[0m\n\u001b[1;32m     36\u001b[0m     \u001b[0mann_filepath\u001b[0m \u001b[0;34m=\u001b[0m \u001b[0mos\u001b[0m\u001b[0;34m.\u001b[0m\u001b[0mpath\u001b[0m\u001b[0;34m.\u001b[0m\u001b[0mjoin\u001b[0m\u001b[0;34m(\u001b[0m\u001b[0mann_path\u001b[0m\u001b[0;34m,\u001b[0m\u001b[0mfilename\u001b[0m\u001b[0;34m[\u001b[0m\u001b[0;34m:\u001b[0m\u001b[0;34m-\u001b[0m\u001b[0;36m4\u001b[0m\u001b[0;34m]\u001b[0m\u001b[0;34m+\u001b[0m\u001b[0;34m'.xml'\u001b[0m\u001b[0;34m)\u001b[0m\u001b[0;34m\u001b[0m\u001b[0m\n\u001b[0;32m---> 37\u001b[0;31m     \u001b[0mclas\u001b[0m \u001b[0;34m=\u001b[0m \u001b[0mread_ann\u001b[0m\u001b[0;34m(\u001b[0m\u001b[0mann_filepath\u001b[0m\u001b[0;34m)\u001b[0m\u001b[0;34m\u001b[0m\u001b[0m\n\u001b[0m\u001b[1;32m     38\u001b[0m     \u001b[0;32mfor\u001b[0m \u001b[0mind\u001b[0m\u001b[0;34m,\u001b[0m\u001b[0mitem\u001b[0m \u001b[0;32min\u001b[0m \u001b[0menumerate\u001b[0m\u001b[0;34m(\u001b[0m\u001b[0mCLASSES\u001b[0m\u001b[0;34m[\u001b[0m\u001b[0;36m1\u001b[0m\u001b[0;34m:\u001b[0m\u001b[0;34m]\u001b[0m\u001b[0;34m)\u001b[0m\u001b[0;34m:\u001b[0m\u001b[0;34m\u001b[0m\u001b[0m\n\u001b[1;32m     39\u001b[0m         \u001b[0;32mif\u001b[0m \u001b[0mitem\u001b[0m \u001b[0;32min\u001b[0m \u001b[0mclas\u001b[0m\u001b[0;34m:\u001b[0m\u001b[0;34m\u001b[0m\u001b[0m\n",
      "\u001b[0;32m<ipython-input-12-86586d253f81>\u001b[0m in \u001b[0;36mread_ann\u001b[0;34m(path)\u001b[0m\n\u001b[1;32m      2\u001b[0m \u001b[0;34m\u001b[0m\u001b[0m\n\u001b[1;32m      3\u001b[0m     \u001b[0mclas\u001b[0m \u001b[0;34m=\u001b[0m \u001b[0;34m[\u001b[0m\u001b[0;34m]\u001b[0m\u001b[0;34m\u001b[0m\u001b[0m\n\u001b[0;32m----> 4\u001b[0;31m     \u001b[0mtree\u001b[0m \u001b[0;34m=\u001b[0m \u001b[0mET\u001b[0m\u001b[0;34m.\u001b[0m\u001b[0mparse\u001b[0m\u001b[0;34m(\u001b[0m\u001b[0mpath\u001b[0m\u001b[0;34m)\u001b[0m\u001b[0;34m\u001b[0m\u001b[0m\n\u001b[0m\u001b[1;32m      5\u001b[0m     \u001b[0mobjs\u001b[0m \u001b[0;34m=\u001b[0m \u001b[0mtree\u001b[0m\u001b[0;34m.\u001b[0m\u001b[0mfindall\u001b[0m\u001b[0;34m(\u001b[0m\u001b[0;34m'object'\u001b[0m\u001b[0;34m)\u001b[0m\u001b[0;34m\u001b[0m\u001b[0m\n\u001b[1;32m      6\u001b[0m     \u001b[0;32mfor\u001b[0m \u001b[0mix\u001b[0m\u001b[0;34m,\u001b[0m \u001b[0mobj\u001b[0m \u001b[0;32min\u001b[0m \u001b[0menumerate\u001b[0m\u001b[0;34m(\u001b[0m\u001b[0mobjs\u001b[0m\u001b[0;34m)\u001b[0m\u001b[0;34m:\u001b[0m\u001b[0;34m\u001b[0m\u001b[0m\n",
      "\u001b[0;32m<string>\u001b[0m in \u001b[0;36mparse\u001b[0;34m(source, parser)\u001b[0m\n",
      "\u001b[0;32m<string>\u001b[0m in \u001b[0;36mparse\u001b[0;34m(self, source, parser)\u001b[0m\n",
      "\u001b[0;31mIOError\u001b[0m: [Errno 2] No such file or directory: '../data/VOCdevkit2007/VOC2007/Annotations/3858.xml'"
     ]
    }
   ],
   "source": [
    "# calculate the activation versus classes matrix\n",
    "print 'loading data from text files'\n",
    "predictions = np.zeros([len(os.listdir(path)),21])\n",
    "for file_ind,filename in enumerate(os.listdir(path)):\n",
    "#     print 'processing file {}'.format(filename)\n",
    "    clas = []\n",
    "    acts = []\n",
    "    f = open('/'.join([path,filename]),'r')\n",
    "    act_ind = 0\n",
    "    for line in f.readlines():\n",
    "#         if line and line[0].isalpha():\n",
    "#             clas.append(line[:-1])\n",
    "        if line.startswith('['):\n",
    "            if not line.endswith(']/n'):\n",
    "                acts.append([])\n",
    "                acts_this_line = line[2:-1].split(' ')\n",
    "                for i in acts_this_line:\n",
    "                    if i is not '':\n",
    "                        acts[act_ind].append(float(i))\n",
    "            else:\n",
    "                raise IOError('Error line with fewer numbers than expected.')\n",
    "        if line.startswith(' '):\n",
    "            # print 'starts with nothing'\n",
    "            if line.endswith(']\\n'):\n",
    "                acts_this_line = line[:-2].split(' ')\n",
    "                for i in acts_this_line:\n",
    "                    if i is not '':\n",
    "                        acts[act_ind].append(float(i))\n",
    "                act_ind += 1\n",
    "            else:\n",
    "                acts_this_line = line.split(' ')\n",
    "                for i in acts_this_line:\n",
    "                    if i is not '':\n",
    "                        acts[act_ind].append(float(i))\n",
    "\n",
    "    ann_filepath = os.path.join(ann_path,filename[:-4]+'.xml')\n",
    "    clas = read_ann(ann_filepath)\n",
    "    for ind,item in enumerate(CLASSES[1:]):\n",
    "        if item in clas:\n",
    "            file_ind = int(filename[:-4])\n",
    "            for j in range(13):\n",
    "                arr_hm[j][file_ind][ind] += acts[j]\n",
    "            num_clas[ind+1] = num_clas[ind+1] + 1\n",
    "            ind_for_item = class_to_ind[item]\n",
    "            predictions[file_ind][ind_for_item] += 1\n",
    "print 'loaded'"
   ]
  },
  {
   "cell_type": "code",
   "execution_count": 31,
   "metadata": {},
   "outputs": [
    {
     "name": "stdout",
     "output_type": "stream",
     "text": [
      "<type 'str'>\n"
     ]
    }
   ],
   "source": [
    "print '%06d'%int(filename[:-4])"
   ]
  },
  {
   "cell_type": "code",
   "execution_count": 27,
   "metadata": {},
   "outputs": [],
   "source": [
    "for i in range(13):\n",
    "#     arr_hm_average = np.average(arr_hm[i],axis=0)\n",
    "#     print arr_hm_average\n",
    "    arr_hm_new = np.sum(arr_hm[i], axis=0)/num_clas[i]\n",
    "#     print arr_hm_new.shape\n",
    "\n",
    "    fig= plt.figure(figsize=(arr_hm_new.shape[1], 21), dpi= 20, facecolor='w', edgecolor='k')\n",
    "    ax = plt.axes()\n",
    "    plt.subplot()\n",
    "    heatmap = ax.pcolormesh(arr_hm_new,cmap=plt.cm.Blues,alpha=0.8)\n",
    "    plt.savefig('{}.png'.format(i))"
   ]
  },
  {
   "cell_type": "code",
   "execution_count": null,
   "metadata": {
    "collapsed": true
   },
   "outputs": [],
   "source": []
  }
 ],
 "metadata": {
  "kernelspec": {
   "display_name": "Python 2",
   "language": "python",
   "name": "python2"
  },
  "language_info": {
   "codemirror_mode": {
    "name": "ipython",
    "version": 2
   },
   "file_extension": ".py",
   "mimetype": "text/x-python",
   "name": "python",
   "nbconvert_exporter": "python",
   "pygments_lexer": "ipython2",
   "version": "2.7.6"
  }
 },
 "nbformat": 4,
 "nbformat_minor": 2
}
